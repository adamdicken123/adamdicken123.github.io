{
 "cells": [
  {
   "cell_type": "raw",
   "metadata": {},
   "source": [
    "---\n",
    "layout: post\n",
    "title: Jupyter meets Jekyll\n",
    "---"
   ]
  },
  {
   "cell_type": "markdown",
   "metadata": {},
   "source": [
    "My intention of creating this blog is to showcase some bits and pieces I play around with in a friendly way. I have been coding in python for a little while and recently started to use Jupyter notebooks as a neat way to explain findings.\n",
    "\n",
    "When I then came across Jekyll and GitHub pages, I thought this is going to be great. An out the box solution to serve my Jupyter notebooks (and other miscellaneous ramblings) in a coherent, bloggy type way. Well, not quite... !\n",
    "\n",
    "## The Problem\n",
    "My assumption was that because Jekyll supports Markdown, and Jupyter notebooks can easily be converted to markdown this would all be a doddle. However, it turns out that the Jekyll flavoured Markdown is not quite compatible with the markdown you can get from Jupyter. And also there is an element of path problems for resources. Oh no!\n",
    "\n",
    "The detail is GitHub pages / Jekyll supports [kramdown](https://github.com/blog/2100-github-pages-now-faster-and-simpler-with-jekyll-3-0). Whilst nbconvert used by Jupyter outputs .md files.\n",
    "\n",
    "After searching about a bit I found far fewer solutions to this issue than I thought there would be. And solutions that worked for the now deprecated iPython format didnt quite work although it did give me some good ideas.\n",
    "\n",
    "## The Solution\n",
    "The first guide I actually found that worked easily was this one from [Brian Caffey](http://briancaffey.github.io/2016/03/14/ipynb-with-jekyll.html), good simple approach but a little bit manual.\n"
   ]
  },
  {
   "cell_type": "code",
   "execution_count": 1,
   "metadata": {
    "collapsed": false,
    "scrolled": true
   },
   "outputs": [
    {
     "data": {
      "text/html": [
       "\n",
       "    <div class=\"bk-banner\">\n",
       "        <a href=\"http://bokeh.pydata.org\" target=\"_blank\" class=\"bk-logo bk-logo-small bk-logo-notebook\"></a>\n",
       "        <span id=\"865e097d-6e55-483e-8482-87f8f5d704d7\">Loading BokehJS ...</span>\n",
       "    </div>"
      ]
     },
     "metadata": {},
     "output_type": "execute_result"
    },
    {
     "data": {},
     "metadata": {},
     "output_type": "display_data"
    }
   ],
   "source": [
    "import numpy as np\n",
    "from bokeh.plotting import *\n",
    "from bokeh.models import ColumnDataSource\n",
    "from bokeh.resources import CDN\n",
    "output_notebook(resources=CDN)"
   ]
  },
  {
   "cell_type": "code",
   "execution_count": 2,
   "metadata": {
    "collapsed": false
   },
   "outputs": [
    {
     "data": {
      "text/plain": [
       "<bokeh.models.renderers.GlyphRenderer at 0x23d9a30>"
      ]
     },
     "execution_count": 2,
     "metadata": {},
     "output_type": "execute_result"
    }
   ],
   "source": [
    "x = np.linspace(0, 4*np.pi, 100)\n",
    "y = np.sin(x)\n",
    "\n",
    "source = ColumnDataSource(dict(x=x,y=y))\n",
    "\n",
    "p1 = figure(title=\"Legend Example\")\n",
    "p1.circle(x, y, source=source, legend=\"Asin(x)\")"
   ]
  },
  {
   "cell_type": "code",
   "execution_count": 3,
   "metadata": {
    "collapsed": true
   },
   "outputs": [],
   "source": [
    "def update(A=1):\n",
    "    source.data['y'] = A * np.sin(source.data['x'])\n",
    "    source.push_notebook()"
   ]
  },
  {
   "cell_type": "code",
   "execution_count": 4,
   "metadata": {
    "collapsed": false
   },
   "outputs": [
    {
     "data": {
      "text/html": [
       "\n",
       "\n",
       "    <div class=\"plotdiv\" id=\"4fbdb915-ea31-4350-9040-bd2094d931c6\"></div>\n",
       "<script type=\"text/javascript\">\n",
       "  \n",
       "  (function(global) {\n",
       "    function now() {\n",
       "      return new Date();\n",
       "    }\n",
       "  \n",
       "    if (typeof (window._bokeh_onload_callbacks) === \"undefined\") {\n",
       "      window._bokeh_onload_callbacks = [];\n",
       "    }\n",
       "  \n",
       "    function run_callbacks() {\n",
       "      window._bokeh_onload_callbacks.forEach(function(callback) { callback() });\n",
       "      delete window._bokeh_onload_callbacks\n",
       "      console.info(\"Bokeh: all callbacks have finished\");\n",
       "    }\n",
       "  \n",
       "    function load_libs(js_urls, callback) {\n",
       "      window._bokeh_onload_callbacks.push(callback);\n",
       "      if (window._bokeh_is_loading > 0) {\n",
       "        console.log(\"Bokeh: BokehJS is being loaded, scheduling callback at\", now());\n",
       "        return null;\n",
       "      }\n",
       "      if (js_urls == null || js_urls.length === 0) {\n",
       "        run_callbacks();\n",
       "        return null;\n",
       "      }\n",
       "      console.log(\"Bokeh: BokehJS not loaded, scheduling load and callback at\", now());\n",
       "      window._bokeh_is_loading = js_urls.length;\n",
       "      for (var i = 0; i < js_urls.length; i++) {\n",
       "        var url = js_urls[i];\n",
       "        var s = document.createElement('script');\n",
       "        s.src = url;\n",
       "        s.async = false;\n",
       "        s.onreadystatechange = s.onload = function() {\n",
       "          window._bokeh_is_loading--;\n",
       "          if (window._bokeh_is_loading === 0) {\n",
       "            console.log(\"Bokeh: all BokehJS libraries loaded\");\n",
       "            run_callbacks()\n",
       "          }\n",
       "        };\n",
       "        s.onerror = function() {\n",
       "          console.warn(\"failed to load library \" + url);\n",
       "        };\n",
       "        console.log(\"Bokeh: injecting script tag for BokehJS library: \", url);\n",
       "        document.getElementsByTagName(\"head\")[0].appendChild(s);\n",
       "      }\n",
       "    };var element = document.getElementById(\"4fbdb915-ea31-4350-9040-bd2094d931c6\");\n",
       "    if (element == null) {\n",
       "      console.log(\"Bokeh: ERROR: autoload.js configured with elementid '4fbdb915-ea31-4350-9040-bd2094d931c6' but no matching script tag was found. \")\n",
       "      return false;\n",
       "    }\n",
       "  \n",
       "    var js_urls = [];\n",
       "  \n",
       "    var inline_js = [\n",
       "      function(Bokeh) {\n",
       "        Bokeh.$(function() {\n",
       "            var docs_json = {\"2bedd06d-9935-4733-8ca2-1a1c33a99e12\":{\"roots\":{\"references\":[{\"attributes\":{\"below\":[{\"id\":\"f0dce49c-f618-4b9e-bc24-b89ad03d8d46\",\"type\":\"LinearAxis\"}],\"left\":[{\"id\":\"5523e4d0-4a65-4ac0-b443-0b5ca46f37a8\",\"type\":\"LinearAxis\"}],\"renderers\":[{\"id\":\"f0dce49c-f618-4b9e-bc24-b89ad03d8d46\",\"type\":\"LinearAxis\"},{\"id\":\"d6017720-73c7-4648-8186-22815ba640d5\",\"type\":\"Grid\"},{\"id\":\"5523e4d0-4a65-4ac0-b443-0b5ca46f37a8\",\"type\":\"LinearAxis\"},{\"id\":\"1899a835-a8dd-41d7-8114-229a52cdcd18\",\"type\":\"Grid\"},{\"id\":\"c6a8f5e0-edf0-4e98-893a-646505a8e7fe\",\"type\":\"BoxAnnotation\"},{\"id\":\"fbdc1940-3762-4cb1-89a0-b3ffa0ec9ec8\",\"type\":\"Legend\"},{\"id\":\"be74c5eb-1715-4676-837a-5d3b48bcd643\",\"type\":\"GlyphRenderer\"}],\"title\":\"Legend Example\",\"tool_events\":{\"id\":\"b32379e5-89b5-4d32-bfb9-b3ac5e3103d3\",\"type\":\"ToolEvents\"},\"tools\":[{\"id\":\"29548354-545f-44cc-9b8a-6fd96d5d5896\",\"type\":\"PanTool\"},{\"id\":\"4a7c2468-349b-40c1-85b7-0ffd47660ad8\",\"type\":\"WheelZoomTool\"},{\"id\":\"ab2a5acd-47fc-4bb3-a38a-891be155ee78\",\"type\":\"BoxZoomTool\"},{\"id\":\"1ea05640-2be8-406b-8002-fdeaab9011e7\",\"type\":\"PreviewSaveTool\"},{\"id\":\"d0be59eb-a2f4-428e-b8fa-07ebe3277b1e\",\"type\":\"ResizeTool\"},{\"id\":\"db660ff4-105e-4234-a908-5ff0989d3bc8\",\"type\":\"ResetTool\"},{\"id\":\"2cbb3ea8-68a1-4ea2-9d96-44abf47b5105\",\"type\":\"HelpTool\"}],\"x_range\":{\"id\":\"1c72acd2-b8ed-4d64-991c-902f8c31c6ac\",\"type\":\"DataRange1d\"},\"y_range\":{\"id\":\"98372978-dea2-4e7e-ba33-87e6a5e0a5df\",\"type\":\"DataRange1d\"}},\"id\":\"dc6ba994-4281-4473-bf75-ec5ae0695b0c\",\"subtype\":\"Figure\",\"type\":\"Plot\"},{\"attributes\":{\"callback\":null,\"column_names\":[\"y\",\"x\",\"y\",\"x\"],\"data\":{\"x\":[0.0,0.12693303650867852,0.25386607301735703,0.3807991095260356,0.5077321460347141,0.6346651825433925,0.7615982190520711,0.8885312555607496,1.0154642920694281,1.1423973285781066,1.269330365086785,1.3962634015954636,1.5231964381041423,1.6501294746128208,1.7770625111214993,1.9039955476301778,2.0309285841388562,2.1578616206475347,2.284794657156213,2.4117276936648917,2.53866073017357,2.6655937666822487,2.792526803190927,2.9194598396996057,3.0463928762082846,3.173325912716963,3.3002589492256416,3.42719198573432,3.5541250222429985,3.681058058751677,3.8079910952603555,3.934924131769034,4.0618571682777125,4.188790204786391,4.3157232412950695,4.442656277803748,4.569589314312426,4.696522350821105,4.823455387329783,4.950388423838462,5.07732146034714,5.204254496855819,5.331187533364497,5.458120569873176,5.585053606381854,5.711986642890533,5.838919679399211,5.96585271590789,6.092785752416569,6.219718788925247,6.346651825433926,6.473584861942604,6.600517898451283,6.727450934959961,6.85438397146864,6.981317007977318,7.108250044485997,7.235183080994675,7.362116117503354,7.489049154012032,7.615982190520711,7.742915227029389,7.869848263538068,7.996781300046746,8.123714336555425,8.250647373064103,8.377580409572783,8.50451344608146,8.631446482590139,8.758379519098817,8.885312555607497,9.012245592116175,9.139178628624853,9.266111665133531,9.39304470164221,9.519977738150889,9.646910774659567,9.773843811168245,9.900776847676925,10.027709884185603,10.15464292069428,10.28157595720296,10.408508993711639,10.535442030220317,10.662375066728995,10.789308103237675,10.916241139746353,11.04317417625503,11.170107212763709,11.297040249272388,11.423973285781067,11.550906322289745,11.677839358798423,11.804772395307102,11.93170543181578,12.058638468324459,12.185571504833138,12.312504541341816,12.439437577850494,12.566370614359172],\"y\":[0.0,0.12659245357374926,0.2511479871810792,0.3716624556603276,0.4861967361004687,0.5929079290546404,0.690079011482112,0.7761464642917568,0.8497254299495144,0.9096319953545183,0.9549022414440739,0.984807753012208,0.998867339183008,0.9968547759519424,0.9788024462147787,0.9450008187146685,0.8959937742913359,0.8325698546347714,0.7557495743542583,0.6667690005162917,0.5670598638627709,0.4582265217274105,0.3420201433256689,0.2203105327865408,0.09505604330418244,-0.03172793349806786,-0.15800139597335008,-0.28173255684142984,-0.4009305354066138,-0.5136773915734064,-0.6181589862206053,-0.7126941713788629,-0.7957618405308321,-0.8660254037844388,-0.9223542941045814,-0.9638421585599422,-0.9898214418809327,-0.9998741276738751,-0.9938384644612541,-0.9718115683235417,-0.9341478602651068,-0.881453363447582,-0.8145759520503358,-0.7345917086575332,-0.6427876096865396,-0.5406408174555974,-0.4297949120891719,-0.31203344569848707,-0.18925124436040974,-0.06342391965656452,0.06342391965656492,0.18925124436041013,0.31203344569848745,0.4297949120891715,0.5406408174555978,0.6427876096865391,0.7345917086575334,0.8145759520503356,0.8814533634475821,0.9341478602651067,0.9718115683235418,0.9938384644612541,0.9998741276738751,0.9898214418809328,0.963842158559942,0.9223542941045816,0.8660254037844383,0.7957618405308319,0.7126941713788629,0.6181589862206056,0.5136773915734058,0.40093053540661344,0.2817325568414299,0.15800139597335056,0.03172793349806701,-0.09505604330418282,-0.22031053278654034,-0.342020143325668,-0.45822652172741085,-0.5670598638627707,-0.6667690005162913,-0.7557495743542588,-0.8325698546347716,-0.8959937742913359,-0.9450008187146683,-0.9788024462147789,-0.9968547759519424,-0.998867339183008,-0.9848077530122081,-0.9549022414440737,-0.9096319953545183,-0.8497254299495145,-0.7761464642917573,-0.6900790114821116,-0.5929079290546404,-0.48619673610046904,-0.3716624556603267,-0.2511479871810788,-0.1265924535737493,-4.898587196589413e-16]}},\"id\":\"e8777593-9a41-48f0-82a9-d17d07dcedd2\",\"type\":\"ColumnDataSource\"},{\"attributes\":{\"overlay\":{\"id\":\"c6a8f5e0-edf0-4e98-893a-646505a8e7fe\",\"type\":\"BoxAnnotation\"},\"plot\":{\"id\":\"dc6ba994-4281-4473-bf75-ec5ae0695b0c\",\"subtype\":\"Figure\",\"type\":\"Plot\"}},\"id\":\"ab2a5acd-47fc-4bb3-a38a-891be155ee78\",\"type\":\"BoxZoomTool\"},{\"attributes\":{},\"id\":\"b0117a90-7055-43c2-8632-023e2b9246fc\",\"type\":\"BasicTicker\"},{\"attributes\":{\"callback\":null},\"id\":\"98372978-dea2-4e7e-ba33-87e6a5e0a5df\",\"type\":\"DataRange1d\"},{\"attributes\":{},\"id\":\"b32379e5-89b5-4d32-bfb9-b3ac5e3103d3\",\"type\":\"ToolEvents\"},{\"attributes\":{},\"id\":\"63d0a5ef-ef9e-4978-9024-51be98270190\",\"type\":\"BasicTickFormatter\"},{\"attributes\":{\"plot\":{\"id\":\"dc6ba994-4281-4473-bf75-ec5ae0695b0c\",\"subtype\":\"Figure\",\"type\":\"Plot\"}},\"id\":\"d0be59eb-a2f4-428e-b8fa-07ebe3277b1e\",\"type\":\"ResizeTool\"},{\"attributes\":{\"dimension\":1,\"plot\":{\"id\":\"dc6ba994-4281-4473-bf75-ec5ae0695b0c\",\"subtype\":\"Figure\",\"type\":\"Plot\"},\"ticker\":{\"id\":\"b0117a90-7055-43c2-8632-023e2b9246fc\",\"type\":\"BasicTicker\"}},\"id\":\"1899a835-a8dd-41d7-8114-229a52cdcd18\",\"type\":\"Grid\"},{\"attributes\":{\"bottom_units\":\"screen\",\"fill_alpha\":{\"value\":0.5},\"fill_color\":{\"value\":\"lightgrey\"},\"left_units\":\"screen\",\"level\":\"overlay\",\"line_alpha\":{\"value\":1.0},\"line_color\":{\"value\":\"black\"},\"line_dash\":[4,4],\"line_width\":{\"value\":2},\"plot\":null,\"render_mode\":\"css\",\"right_units\":\"screen\",\"top_units\":\"screen\"},\"id\":\"c6a8f5e0-edf0-4e98-893a-646505a8e7fe\",\"type\":\"BoxAnnotation\"},{\"attributes\":{\"formatter\":{\"id\":\"0d5a8d7a-575c-4073-873f-80929e2d2909\",\"type\":\"BasicTickFormatter\"},\"plot\":{\"id\":\"dc6ba994-4281-4473-bf75-ec5ae0695b0c\",\"subtype\":\"Figure\",\"type\":\"Plot\"},\"ticker\":{\"id\":\"5b4477ec-7396-4f2b-95f0-9c7b9808174d\",\"type\":\"BasicTicker\"}},\"id\":\"f0dce49c-f618-4b9e-bc24-b89ad03d8d46\",\"type\":\"LinearAxis\"},{\"attributes\":{\"callback\":null},\"id\":\"1c72acd2-b8ed-4d64-991c-902f8c31c6ac\",\"type\":\"DataRange1d\"},{\"attributes\":{},\"id\":\"0d5a8d7a-575c-4073-873f-80929e2d2909\",\"type\":\"BasicTickFormatter\"},{\"attributes\":{\"fill_alpha\":{\"value\":0.1},\"fill_color\":{\"value\":\"#1f77b4\"},\"line_alpha\":{\"value\":0.1},\"line_color\":{\"value\":\"#1f77b4\"},\"x\":{\"field\":\"x\"},\"y\":{\"field\":\"y\"}},\"id\":\"a95ca318-2d62-49e5-b811-e4e6513688ee\",\"type\":\"Circle\"},{\"attributes\":{\"plot\":{\"id\":\"dc6ba994-4281-4473-bf75-ec5ae0695b0c\",\"subtype\":\"Figure\",\"type\":\"Plot\"}},\"id\":\"1ea05640-2be8-406b-8002-fdeaab9011e7\",\"type\":\"PreviewSaveTool\"},{\"attributes\":{\"plot\":{\"id\":\"dc6ba994-4281-4473-bf75-ec5ae0695b0c\",\"subtype\":\"Figure\",\"type\":\"Plot\"}},\"id\":\"2cbb3ea8-68a1-4ea2-9d96-44abf47b5105\",\"type\":\"HelpTool\"},{\"attributes\":{\"data_source\":{\"id\":\"e8777593-9a41-48f0-82a9-d17d07dcedd2\",\"type\":\"ColumnDataSource\"},\"glyph\":{\"id\":\"2fa35cc0-4695-4b3f-a36e-ee375a927feb\",\"type\":\"Circle\"},\"hover_glyph\":null,\"nonselection_glyph\":{\"id\":\"a95ca318-2d62-49e5-b811-e4e6513688ee\",\"type\":\"Circle\"},\"selection_glyph\":null},\"id\":\"be74c5eb-1715-4676-837a-5d3b48bcd643\",\"type\":\"GlyphRenderer\"},{\"attributes\":{\"legends\":[[\"Asin(x)\",[{\"id\":\"be74c5eb-1715-4676-837a-5d3b48bcd643\",\"type\":\"GlyphRenderer\"}]]],\"plot\":{\"id\":\"dc6ba994-4281-4473-bf75-ec5ae0695b0c\",\"subtype\":\"Figure\",\"type\":\"Plot\"}},\"id\":\"fbdc1940-3762-4cb1-89a0-b3ffa0ec9ec8\",\"type\":\"Legend\"},{\"attributes\":{\"plot\":{\"id\":\"dc6ba994-4281-4473-bf75-ec5ae0695b0c\",\"subtype\":\"Figure\",\"type\":\"Plot\"}},\"id\":\"4a7c2468-349b-40c1-85b7-0ffd47660ad8\",\"type\":\"WheelZoomTool\"},{\"attributes\":{\"plot\":{\"id\":\"dc6ba994-4281-4473-bf75-ec5ae0695b0c\",\"subtype\":\"Figure\",\"type\":\"Plot\"}},\"id\":\"db660ff4-105e-4234-a908-5ff0989d3bc8\",\"type\":\"ResetTool\"},{\"attributes\":{\"plot\":{\"id\":\"dc6ba994-4281-4473-bf75-ec5ae0695b0c\",\"subtype\":\"Figure\",\"type\":\"Plot\"},\"ticker\":{\"id\":\"5b4477ec-7396-4f2b-95f0-9c7b9808174d\",\"type\":\"BasicTicker\"}},\"id\":\"d6017720-73c7-4648-8186-22815ba640d5\",\"type\":\"Grid\"},{\"attributes\":{\"formatter\":{\"id\":\"63d0a5ef-ef9e-4978-9024-51be98270190\",\"type\":\"BasicTickFormatter\"},\"plot\":{\"id\":\"dc6ba994-4281-4473-bf75-ec5ae0695b0c\",\"subtype\":\"Figure\",\"type\":\"Plot\"},\"ticker\":{\"id\":\"b0117a90-7055-43c2-8632-023e2b9246fc\",\"type\":\"BasicTicker\"}},\"id\":\"5523e4d0-4a65-4ac0-b443-0b5ca46f37a8\",\"type\":\"LinearAxis\"},{\"attributes\":{},\"id\":\"5b4477ec-7396-4f2b-95f0-9c7b9808174d\",\"type\":\"BasicTicker\"},{\"attributes\":{\"plot\":{\"id\":\"dc6ba994-4281-4473-bf75-ec5ae0695b0c\",\"subtype\":\"Figure\",\"type\":\"Plot\"}},\"id\":\"29548354-545f-44cc-9b8a-6fd96d5d5896\",\"type\":\"PanTool\"},{\"attributes\":{\"fill_color\":{\"value\":\"#1f77b4\"},\"line_color\":{\"value\":\"#1f77b4\"},\"x\":{\"field\":\"x\"},\"y\":{\"field\":\"y\"}},\"id\":\"2fa35cc0-4695-4b3f-a36e-ee375a927feb\",\"type\":\"Circle\"}],\"root_ids\":[\"dc6ba994-4281-4473-bf75-ec5ae0695b0c\"]},\"title\":\"Bokeh Application\",\"version\":\"0.11.1\"}};\n",
       "            var render_items = [{\"docid\":\"2bedd06d-9935-4733-8ca2-1a1c33a99e12\",\"elementid\":\"4fbdb915-ea31-4350-9040-bd2094d931c6\",\"modelid\":\"dc6ba994-4281-4473-bf75-ec5ae0695b0c\",\"notebook_comms_target\":\"7ca9ed5f-961a-497d-b6f2-acea6c73cdba\"}];\n",
       "            \n",
       "            Bokeh.embed.embed_items(docs_json, render_items);\n",
       "        });\n",
       "      },\n",
       "      function(Bokeh) {\n",
       "      }\n",
       "    ];\n",
       "  \n",
       "    function run_inline_js() {\n",
       "      for (var i = 0; i < inline_js.length; i++) {\n",
       "        inline_js[i](window.Bokeh);\n",
       "      }\n",
       "    }\n",
       "  \n",
       "    if (window._bokeh_is_loading === 0) {\n",
       "      console.log(\"Bokeh: BokehJS loaded, going straight to plotting\");\n",
       "      run_inline_js();\n",
       "    } else {\n",
       "      load_libs(js_urls, function() {\n",
       "        console.log(\"Bokeh: BokehJS plotting callback run at\", now());\n",
       "        run_inline_js();\n",
       "      });\n",
       "    }\n",
       "  }(this));\n",
       "</script>"
      ]
     },
     "metadata": {},
     "output_type": "execute_result"
    },
    {
     "data": {
      "text/html": [
       "<p><code>&lt;Bokeh Notebook handle for <strong>In[4]</strong>&gt;</code></p>"
      ],
      "text/plain": [
       "<bokeh.io._CommsHandle at 0x80bfd10>"
      ]
     },
     "execution_count": 4,
     "metadata": {},
     "output_type": "execute_result"
    }
   ],
   "source": [
    "show(p1)  # open a browser"
   ]
  }
 ],
 "metadata": {
  "kernelspec": {
   "display_name": "Python 2",
   "language": "python",
   "name": "python2"
  },
  "language_info": {
   "codemirror_mode": {
    "name": "ipython",
    "version": 2.0
   },
   "file_extension": ".py",
   "mimetype": "text/x-python",
   "name": "python",
   "nbconvert_exporter": "python",
   "pygments_lexer": "ipython2",
   "version": "2.7.11"
  }
 },
 "nbformat": 4,
 "nbformat_minor": 0
}