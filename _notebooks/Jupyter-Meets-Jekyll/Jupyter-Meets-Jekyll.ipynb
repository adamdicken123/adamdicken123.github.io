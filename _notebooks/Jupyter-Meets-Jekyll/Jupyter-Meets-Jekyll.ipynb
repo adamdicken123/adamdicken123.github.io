{
 "cells": [
  {
   "cell_type": "raw",
   "metadata": {
    "collapsed": true
   },
   "source": [
    "---\n",
    "layout: post\n",
    "title: Jupyter meets Jekyll\n",
    "---"
   ]
  },
  {
   "cell_type": "markdown",
   "metadata": {},
   "source": [
    "My intention of creating this blog is to showcase some analysis bits and pieces I play around with in a human readable friendly way. I have been coding in python for a while and recently started to use Jupyter notebooks as a neat way to explain findings.\n",
    "\n",
    "When I then came across Jekyll and GitHub pages, I thought this is going to be great. An out the box solution to serve my Jupyter notebooks (and other miscellaneous ramblings) in a coherent, bloggy type way. Well, not quite... !\n",
    "\n",
    "## The Problem\n",
    "My assumption was that because Jekyll supports Markdown, and Jupyter notebooks can easily be converted to markdown this would all be a doddle. However, it turns out that the Jekyll flavoured Markdown is not always quite compatible with the markdown you can get from Jupyter. Oh, and also there is an element of path problems for resources.\n",
    "\n",
    "> GitHub pages / Jekyll supports [kramdown](https://github.com/blog/2100-github-pages-now-faster-and-simpler-with-jekyll-3-0). \n",
    "\n",
    "After searching about online I found far fewer solutions to this issue than I thought there would be. And solutions that worked for the now deprecated iPython format didnt quite work for Jupyter notebooks although it did give me some good ideas.\n",
    "\n",
    "## The Solution\n",
    "The first guide I found that worked easily was this one from [Brian Caffey](http://briancaffey.github.io/2016/03/14/ipynb-with-jekyll.html), this is a good simple approach but a little bit manual. Ideally I want something that requires zero intervention from saving a .ipynb to producing a post.\n",
    "\n",
    "I then found this [GitHub project](https://github.com/Nicolaidavies/NoHassle-jekyll) which I decided to [fork](https://github.com/adamdicken123/NoHassle-jekyll).\n",
    "\n",
    "The result is a plugin which does the following:\n",
    "\n",
    "+ Finds notebook files (.ipynb)\n",
    "+ Runs nbconvert on them to generate markdown & names the file with Jekyll datetime name conventions\n",
    "+ Handles copying of resources and updating paths\n",
    "+ Optionally can add the frontmatter to the markdown\n",
    "\n",
    "## Usage\n",
    "\n",
    "\n",
    "### 0. Setup directory structure\n",
    "You will need a directory to store you notebook files in which Jekyll can ignore. Create a folder called `_notebooks` in the root of your Jekyll project.\n",
    "\n",
    "### 1. Add Jekyll plugin\n",
    "Now this will not run on GitHub pages, but we don't need it to!\n",
    "\n",
    "Simply add `noHassle.rb` to your `_plugins` directory.\n",
    "\n",
    "Now run `jekyll serve` - this will now start monitoring all `.ipynb` notebooks in the `_notebooks` directory. Open up your jekyll site in a new tab for monitoring.\n",
    "\n",
    "### 2. Create your .ipynb notebook\n",
    "Create a new notebook in your `_notebooks` directory\n",
    "\n",
    "Run `jupyter notebook` from within `_notebooks` and create a new notebook.\n",
    "\n",
    "*__NOTE__: You may also wish to put notebooks within seperate directories for example the notebook for this post is under `_notebooks/Jupyter-Meets-Jekyll/`.*\n",
    "\n",
    "When you create your notebook you will notice the jekyll command window print out info - this is the plugin talking.\n",
    "\n",
    "At this point the plugin will have generated markdown for you new notebook and put it in `_posts`. But it won't be on the site yet because it has no front matter, so lets add this now.\n",
    "\n",
    "### 3. Add YAML front matter\n",
    "In the very first cell in your notebook add a `Raw NBConvert` cell. This will be what Jekyll uses to interpret the post, e.g.\n",
    "\n",
    "```\n",
    "---\n",
    "layout: post\n",
    "title: Jupyter meets Jekyll\n",
    "---\n",
    "```\n",
    "\n",
    "Save the notebook, this will prompt jekyll to rebuild and hence the plugin to regen the markdown. Once complete the notebook will now be visible on your site.\n",
    "\n",
    "> This step can also be done by the script by setting `@@add_frontmatter = true` in the options section of `noHassle.rb` - although I prefer having more explicit control over the post title (I might not want it to be the same as the file name). \n",
    "\n",
    "### 4. Do your thing\n",
    "Now do your thing in your Jupyter notebook and include any and all markdown you wish to include in your blog post - e.g. see the [notebook source for this post](). \n",
    "\n",
    "> Currently I use the Jupyter servlet in my browser for editing notebooks - I use PyCharm as my IDE of choice but I find it doesn't play that nice with notebooks. Comment below if you have any good suggestions / thoughts on notebooks and IDE's.\n",
    "\n",
    "For the sake of this tutorial here is a nice simple bit of python to generate a chart:"
   ]
  },
  {
   "cell_type": "code",
   "execution_count": 1,
   "metadata": {
    "collapsed": false
   },
   "outputs": [
    {
     "data": {
      "text/plain": [
       "[<matplotlib.lines.Line2D at 0x73dd250>]"
      ]
     },
     "execution_count": 1,
     "metadata": {},
     "output_type": "execute_result"
    },
    {
     "data": {
      "image/png": "[encoded data removed]",
      "text/plain": [
       "<matplotlib.figure.Figure at 0x73441d0>"
      ]
     },
     "metadata": {},
     "output_type": "display_data"
    }
   ],
   "source": [
    "import numpy as np\n",
    "import matplotlib.pyplot as plt\n",
    "%matplotlib inline\n",
    "\n",
    "x = np.linspace(0, 4*np.pi, 100)\n",
    "y = np.sin(x)\n",
    "\n",
    "plt.plot(x, y)"
   ]
  },
  {
   "cell_type": "markdown",
   "metadata": {},
   "source": [
    "Enter the same in your notebook and hit save to trigger the plugin to refresh the markdown.\n",
    "\n",
    "Hey presto, the chart is linked correctly ! If you check you will now have a `notebooks_resources` directory, all files generated by nbconvert are put here\n",
    "\n",
    "### 6. Upload\n",
    "I am using GitHub pages which won't support this plugin. But as long as I preview any changes to my site locally then the plugin will run there to put the necassary files into `_posts` and `notebook_resources` which will then be picked up by GitHub pages."
   ]
  },
  {
   "cell_type": "markdown",
   "metadata": {},
   "source": [
    "## Wrap up\n",
    "If you think this is a neat idea follow through with this tutorial and check out [my fork of NoHassle-Jekyll](https://github.com/adamdicken123/NoHassle-jekyll)\n",
    "\n",
    "I am also using Bokeh a bit in python, so in my next post I will be looking at how to integrate the Bokeh javascript into this workflow."
   ]
  }
 ],
 "metadata": {
  "kernelspec": {
   "display_name": "Python 2",
   "language": "python",
   "name": "python2"
  },
  "language_info": {
   "codemirror_mode": {
    "name": "ipython",
    "version": 2
   },
   "file_extension": ".py",
   "mimetype": "text/x-python",
   "name": "python",
   "nbconvert_exporter": "python",
   "pygments_lexer": "ipython2",
   "version": "2.7.11"
  }
 },
 "nbformat": 4,
 "nbformat_minor": 0
}
