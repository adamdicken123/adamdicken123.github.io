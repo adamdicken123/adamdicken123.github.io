{
 "cells": [
  {
   "cell_type": "markdown",
   "metadata": {},
   "source": [
    "## Here we will investigate some potential features for our model\n",
    "\n",
    "For each feature we will create a resource where by we can look up on location (geohash) so we can do this for unseen data points.."
   ]
  },
  {
   "cell_type": "markdown",
   "metadata": {},
   "source": [
    "##### 1. Number of violations at the address\n",
    "\n",
    "A simple feature to use is the number of incidents from 'detroit-blight-violations.csv' at the building"
   ]
  },
  {
   "cell_type": "code",
   "execution_count": 3,
   "metadata": {
    "collapsed": false
   },
   "outputs": [],
   "source": [
    "# Load the building definitions file:\n",
    "import json\n",
    "from blight_functions.unique_buildings import unique_buildings\n",
    "    \n",
    "buildings = unique_buildings('data/unique_buildings.json')"
   ]
  },
  {
   "cell_type": "code",
   "execution_count": 4,
   "metadata": {
    "collapsed": false
   },
   "outputs": [
    {
     "name": "stderr",
     "output_type": "stream",
     "text": [
      "C:\\Python27\\lib\\site-packages\\IPython\\core\\interactiveshell.py:2723: DtypeWarning: Columns (6,10,11,12) have mixed types. Specify dtype option on import or set low_memory=False.\n",
      "  interactivity=interactivity, compiler=compiler, result=result)\n"
     ]
    }
   ],
   "source": [
    "import pandas as pd\n",
    "\n",
    "# Read in violations\n",
    "blight_violations = pd.read_csv('data/detroit-blight-violations.csv', delimiter=',', na_values=['', 'N/A'])\n",
    "\n",
    "# Parse locations & Add another column to our demolition_permits to join\n",
    "blight_violations['geohashed'] = blight_violations.apply(lambda row: buildings.location_to_building(row['ViolationAddress']), axis=1)"
   ]
  },
  {
   "cell_type": "code",
   "execution_count": 5,
   "metadata": {
    "collapsed": false
   },
   "outputs": [
    {
     "data": {
      "text/plain": [
       "geohashed\n",
       "MAX_ADDR_PER_BUILDING    39475\n",
       "dpsb7mxqzt1r                 1\n",
       "dpsb7mz4z2e3                 2\n",
       "dpsb7qp2sjm5                 2\n",
       "dpsb7qp3js3u                 1\n",
       "dtype: int64"
      ]
     },
     "execution_count": 5,
     "metadata": {},
     "output_type": "execute_result"
    }
   ],
   "source": [
    "# Group by geohash\n",
    "blight_violations_grouped = blight_violations.groupby(['geohashed']).size()\n",
    "\n",
    "# How many errors ? \n",
    "blight_violations.groupby(['geohashed']).size()[:5]"
   ]
  },
  {
   "cell_type": "code",
   "execution_count": 6,
   "metadata": {
    "collapsed": false
   },
   "outputs": [
    {
     "data": {
      "text/plain": [
       "'96086 distinct geohashes out of 307804 incidents'"
      ]
     },
     "execution_count": 6,
     "metadata": {},
     "output_type": "execute_result"
    }
   ],
   "source": [
    "# Remove the error lines\n",
    "blight_violations_grouped.pop('MAX_ADDR_PER_BUILDING')\n",
    "'{} distinct geohashes out of {} incidents'.format(len(blight_violations_grouped), len(blight_violations))"
   ]
  },
  {
   "cell_type": "code",
   "execution_count": 7,
   "metadata": {
    "collapsed": false
   },
   "outputs": [],
   "source": [
    "# Save the results to a csv file - [geohash, number of violations]\n",
    "blight_violations_grouped.to_csv('data/features/violations_at_address.csv')"
   ]
  },
  {
   "cell_type": "code",
   "execution_count": 21,
   "metadata": {
    "collapsed": false
   },
   "outputs": [
    {
     "data": {
      "image/png": "[encoded data removed]",
      "text/plain": [
       "<matplotlib.figure.Figure at 0xb513090>"
      ]
     },
     "metadata": {},
     "output_type": "display_data"
    }
   ],
   "source": [
    "%matplotlib inline\n",
    "import numpy as np\n",
    "import matplotlib.mlab as mlab\n",
    "import matplotlib.pyplot as plt\n",
    "\n",
    "# the histogram of the data\n",
    "n, bins, patches = plt.hist(blight_violations_grouped, 50, facecolor='green', alpha=0.75)\n",
    "\n",
    "plt.xlabel('Number of Violations at Single Location')\n",
    "plt.ylabel('Frequency')\n",
    "plt.yscale('log')\n",
    "plt.title(r'Examining the frequency of violations at a single location')\n",
    "plt.axis([0, 100, 0, 50000])\n",
    "plt.grid(True)\n",
    "\n",
    "plt.show()"
   ]
  },
  {
   "cell_type": "markdown",
   "metadata": {},
   "source": [
    "##### 2. Proximity to crimes"
   ]
  },
  {
   "cell_type": "markdown",
   "metadata": {},
   "source": [
    "For proximity, since we have applied geohash we can simply remove characters from the end of the hash to increase the bounding box. Whilst this will return a square(ish) region, and so is not true proximity, it is a reasonable estimation to make for the decrease in computational complexity.\n",
    "\n",
    "Approximately the number of characters in the hash gives a distance accurate to, accurate at the equator and approximately right in Detroit:\n",
    "\n",
    "| Characters | Precision in km |\n",
    "|------------|-----------------|\n",
    "| 1          | ±2500           |\n",
    "| 2          | ±630            |\n",
    "| 3          | ±78             |\n",
    "| 4          | ±20             |\n",
    "| 5          | ±2.4            |\n",
    "| 6          | ±0.61           |\n",
    "| 7          | ±0.076          |\n",
    "| 8          | ±0.019          |\n",
    "| 9          | ±0.0024         |\n",
    "| 10         | ±0.00060        |\n",
    "| 11         | ±0.000074       |\n",
    "| 12         | ±0.0000185      |\n",
    "\n",
    "A reasonable proximity to look at would be a bounding box of 1km, this is roughly equivalent to truncating geohashes at 6 characters.\n",
    "\n",
    "In reality crimes have differing degrees of seriousness, however for this feature I am going to simply treat all crimes as equal."
   ]
  },
  {
   "cell_type": "code",
   "execution_count": 28,
   "metadata": {
    "collapsed": false
   },
   "outputs": [],
   "source": [
    "# Read in crimes\n",
    "import pandas as pd\n",
    "crime_incidents = pd.read_csv('data/detroit-crime.csv', delimiter=',', na_values=['', 'N/A'])"
   ]
  },
  {
   "cell_type": "code",
   "execution_count": 10,
   "metadata": {
    "collapsed": false
   },
   "outputs": [],
   "source": [
    "# Parse locations & Add another column to our demolition_permits to join\n",
    "from blight_functions import location\n",
    "crime_incidents['geohashed'] = crime_incidents.apply(lambda row: location.get_geohash(row['LOCATION'], precision=6), axis=1)"
   ]
  },
  {
   "cell_type": "code",
   "execution_count": 13,
   "metadata": {
    "collapsed": false
   },
   "outputs": [
    {
     "data": {
      "text/plain": [
       "geohashed\n",
       "9mux5h    1\n",
       "9q5yv7    1\n",
       "9q9vyn    1\n",
       "9q9zby    1\n",
       "9qd94p    1\n",
       "dtype: int64"
      ]
     },
     "execution_count": 13,
     "metadata": {},
     "output_type": "execute_result"
    }
   ],
   "source": [
    "# Group by geohash\n",
    "crime_incidents_grouped = crime_incidents.groupby(['geohashed']).size()\n",
    "crime_incidents_grouped[:5]"
   ]
  },
  {
   "cell_type": "code",
   "execution_count": 24,
   "metadata": {
    "collapsed": true
   },
   "outputs": [],
   "source": [
    "# Save the results to a csv file - [geohash (shortend, number of crimes]\n",
    "crime_incidents_grouped.to_csv('data/features/crimes_at_truncated_geohash.csv')"
   ]
  },
  {
   "cell_type": "code",
   "execution_count": 23,
   "metadata": {
    "collapsed": false
   },
   "outputs": [
    {
     "data": {
      "image/png": "[encoded data removed]",
      "text/plain": [
       "<matplotlib.figure.Figure at 0xa05f850>"
      ]
     },
     "metadata": {},
     "output_type": "display_data"
    }
   ],
   "source": [
    "# Examine the distribution\n",
    "%matplotlib inline\n",
    "import numpy as np\n",
    "import matplotlib.mlab as mlab\n",
    "import matplotlib.pyplot as plt\n",
    "\n",
    "# the histogram of the data\n",
    "n, bins, patches = plt.hist(crime_incidents_grouped, 100, facecolor='green', alpha=0.75)\n",
    "\n",
    "plt.xlabel('Number of Crimes at 6 geohash length Location (approx 1km^2)')\n",
    "plt.ylabel('Frequency')\n",
    "# plt.yscale('log')\n",
    "plt.title(r'Examining the frequency of crimes at a single location')\n",
    "plt.axis([0, 1000, 0, 300])\n",
    "plt.grid(True)\n",
    "\n",
    "plt.show()"
   ]
  },
  {
   "cell_type": "markdown",
   "metadata": {},
   "source": [
    "##### 3. Proximity to other blighted buildings\n",
    "\n",
    "The method here is very similar to looking at the proximity to crimes, except we will be comparing it to the labeled known 'blighted' buildings from earlier. My hypothesis is that the more blighted buildings in the area the higher the probability more in the area will become blighted in the future."
   ]
  },
  {
   "cell_type": "code",
   "execution_count": 27,
   "metadata": {
    "collapsed": false
   },
   "outputs": [
    {
     "data": {
      "text/html": [
       "<div>\n",
       "<table border=\"1\" class=\"dataframe\">\n",
       "  <thead>\n",
       "    <tr style=\"text-align: right;\">\n",
       "      <th></th>\n",
       "      <th>geohash</th>\n",
       "      <th>is_blighted?</th>\n",
       "    </tr>\n",
       "  </thead>\n",
       "  <tbody>\n",
       "    <tr>\n",
       "      <th>2287</th>\n",
       "      <td>dpsckffh1325</td>\n",
       "      <td>True</td>\n",
       "    </tr>\n",
       "    <tr>\n",
       "      <th>2288</th>\n",
       "      <td>dpschpgnd8rd</td>\n",
       "      <td>True</td>\n",
       "    </tr>\n",
       "    <tr>\n",
       "      <th>2289</th>\n",
       "      <td>dpsby5bkz7wf</td>\n",
       "      <td>True</td>\n",
       "    </tr>\n",
       "    <tr>\n",
       "      <th>2290</th>\n",
       "      <td>dpsbuh3gprkp</td>\n",
       "      <td>True</td>\n",
       "    </tr>\n",
       "    <tr>\n",
       "      <th>2291</th>\n",
       "      <td>dpscq6ew1mzd</td>\n",
       "      <td>True</td>\n",
       "    </tr>\n",
       "  </tbody>\n",
       "</table>\n",
       "</div>"
      ],
      "text/plain": [
       "           geohash is_blighted?\n",
       "2287  dpsckffh1325         True\n",
       "2288  dpschpgnd8rd         True\n",
       "2289  dpsby5bkz7wf         True\n",
       "2290  dpsbuh3gprkp         True\n",
       "2291  dpscq6ew1mzd         True"
      ]
     },
     "execution_count": 27,
     "metadata": {},
     "output_type": "execute_result"
    }
   ],
   "source": [
    "# Read in labelled data\n",
    "import pandas as pd\n",
    "labeled_data = pd.read_csv('data/training.csv', delimiter=',', na_values=['', 'N/A'])\n",
    "\n",
    "# Select only the blighted geohashes\n",
    "blighted_geohashes = labeled_data[labeled_data['is_blighted?']==True]\n",
    "\n",
    "blighted_geohashes[:5]"
   ]
  },
  {
   "cell_type": "code",
   "execution_count": 30,
   "metadata": {
    "collapsed": false
   },
   "outputs": [
    {
     "data": {
      "text/html": [
       "<div>\n",
       "<table border=\"1\" class=\"dataframe\">\n",
       "  <thead>\n",
       "    <tr style=\"text-align: right;\">\n",
       "      <th></th>\n",
       "      <th>geohash</th>\n",
       "      <th>is_blighted?</th>\n",
       "    </tr>\n",
       "  </thead>\n",
       "  <tbody>\n",
       "    <tr>\n",
       "      <th>2287</th>\n",
       "      <td>dpsckf</td>\n",
       "      <td>True</td>\n",
       "    </tr>\n",
       "    <tr>\n",
       "      <th>2288</th>\n",
       "      <td>dpschp</td>\n",
       "      <td>True</td>\n",
       "    </tr>\n",
       "    <tr>\n",
       "      <th>2289</th>\n",
       "      <td>dpsby5</td>\n",
       "      <td>True</td>\n",
       "    </tr>\n",
       "    <tr>\n",
       "      <th>2290</th>\n",
       "      <td>dpsbuh</td>\n",
       "      <td>True</td>\n",
       "    </tr>\n",
       "    <tr>\n",
       "      <th>2291</th>\n",
       "      <td>dpscq6</td>\n",
       "      <td>True</td>\n",
       "    </tr>\n",
       "  </tbody>\n",
       "</table>\n",
       "</div>"
      ],
      "text/plain": [
       "     geohash is_blighted?\n",
       "2287  dpsckf         True\n",
       "2288  dpschp         True\n",
       "2289  dpsby5         True\n",
       "2290  dpsbuh         True\n",
       "2291  dpscq6         True"
      ]
     },
     "execution_count": 30,
     "metadata": {},
     "output_type": "execute_result"
    }
   ],
   "source": [
    "# Truncate geohash to 6 characters\n",
    "blighted_geohashes_truncated = blighted_geohashes.copy()\n",
    "blighted_geohashes_truncated['geohash'] = blighted_geohashes.apply(lambda row: row['geohash'][:6], axis=1)\n",
    "blighted_geohashes_truncated[:5]"
   ]
  },
  {
   "cell_type": "code",
   "execution_count": 33,
   "metadata": {
    "collapsed": false
   },
   "outputs": [
    {
     "data": {
      "text/plain": [
       "'2287 precision 12 geohashes grouped up to 501 precision 6 geohashes'"
      ]
     },
     "execution_count": 33,
     "metadata": {},
     "output_type": "execute_result"
    }
   ],
   "source": [
    "# Group by geohash\n",
    "blighted_geohashes_truncated_grouped = blighted_geohashes_truncated.groupby(['geohash']).size()\n",
    "'{} precision 12 geohashes grouped up to {} precision 6 geohashes'.format(len(blighted_geohashes), \n",
    "                                                                          len(blighted_geohashes_truncated_grouped))"
   ]
  },
  {
   "cell_type": "code",
   "execution_count": 38,
   "metadata": {
    "collapsed": true
   },
   "outputs": [],
   "source": [
    "# Save the results to a csv file - [geohash (shortend, number of crimes]\n",
    "blighted_geohashes_truncated_grouped.to_csv('data/features/blighted_buildings_at_truncated_geohash.csv')"
   ]
  },
  {
   "cell_type": "code",
   "execution_count": 37,
   "metadata": {
    "collapsed": false
   },
   "outputs": [
    {
     "data": {
      "image/png": "[encoded data removed]",
      "text/plain": [
       "<matplotlib.figure.Figure at 0xcc80f10>"
      ]
     },
     "metadata": {},
     "output_type": "display_data"
    }
   ],
   "source": [
    "# Examine the distribution\n",
    "%matplotlib inline\n",
    "import numpy as np\n",
    "import matplotlib.mlab as mlab\n",
    "import matplotlib.pyplot as plt\n",
    "\n",
    "# the histogram of the data\n",
    "n, bins, patches = plt.hist(blighted_geohashes_truncated_grouped, 100, facecolor='green', alpha=0.75)\n",
    "\n",
    "plt.xlabel('Number of blighted buildings at 6 geohash length Location (approx 1km^2)')\n",
    "plt.ylabel('Frequency')\n",
    "# plt.yscale('log')\n",
    "plt.title(r'Examining the frequency of blighted buildings at a single location')\n",
    "plt.axis([0, 40, 0, 150])\n",
    "plt.grid(True)\n",
    "\n",
    "plt.show()"
   ]
  },
  {
   "cell_type": "markdown",
   "metadata": {},
   "source": [
    "##### 4. Proximity to blight incidents\n",
    "\n",
    "Same as looking at proximity to labeled blighted buildings, and slightly different to looking (and perhaps more reliable in terms of available data) at blight incidents at the exact address, lets count the incidents of blight violations within the same approximate proximity. Again the hypothesis is that the more blight violations in the nearby area the more likely buildings in the same area are to become blighted."
   ]
  },
  {
   "cell_type": "code",
   "execution_count": 39,
   "metadata": {
    "collapsed": false
   },
   "outputs": [
    {
     "name": "stderr",
     "output_type": "stream",
     "text": [
      "C:\\Python27\\lib\\site-packages\\IPython\\core\\interactiveshell.py:2723: DtypeWarning: Columns (6,10,11,12) have mixed types. Specify dtype option on import or set low_memory=False.\n",
      "  interactivity=interactivity, compiler=compiler, result=result)\n"
     ]
    }
   ],
   "source": [
    "import pandas as pd\n",
    "\n",
    "# Read in violations\n",
    "blight_violations = pd.read_csv('data/detroit-blight-violations.csv', delimiter=',', na_values=['', 'N/A'])"
   ]
  },
  {
   "cell_type": "code",
   "execution_count": 42,
   "metadata": {
    "collapsed": false
   },
   "outputs": [],
   "source": [
    "# Parse locations & Add another column to our demolition_permits to join\n",
    "from blight_functions import location\n",
    "blight_violations['geohashed'] = blight_violations.apply(lambda row: location.get_geohash(row['ViolationAddress'], precision=6), \n",
    "                                                         axis=1)"
   ]
  },
  {
   "cell_type": "code",
   "execution_count": 43,
   "metadata": {
    "collapsed": false
   },
   "outputs": [
    {
     "data": {
      "text/plain": [
       "geohashed\n",
       "dpsb7m     3\n",
       "dpsb7q    12\n",
       "dpsb7s     4\n",
       "dpsb7t    56\n",
       "dpsb7w    74\n",
       "dtype: int64"
      ]
     },
     "execution_count": 43,
     "metadata": {},
     "output_type": "execute_result"
    }
   ],
   "source": [
    "# Group by geohash\n",
    "blight_violations_grouped = blight_violations.groupby(['geohashed']).size()\n",
    "blight_violations_grouped[:5]"
   ]
  },
  {
   "cell_type": "code",
   "execution_count": 44,
   "metadata": {
    "collapsed": true
   },
   "outputs": [],
   "source": [
    "# Save the results to a csv file - [geohash (shortend, number of crimes]\n",
    "blight_violations_grouped.to_csv('data/features/violations_at_truncated_geohash.csv')"
   ]
  },
  {
   "cell_type": "code",
   "execution_count": 49,
   "metadata": {
    "collapsed": false
   },
   "outputs": [
    {
     "data": {
      "image/png": "[encoded data removed]",
      "text/plain": [
       "<matplotlib.figure.Figure at 0x143a80d0>"
      ]
     },
     "metadata": {},
     "output_type": "display_data"
    }
   ],
   "source": [
    "# Examine the distribution\n",
    "%matplotlib inline\n",
    "import numpy as np\n",
    "import matplotlib.mlab as mlab\n",
    "import matplotlib.pyplot as plt\n",
    "\n",
    "# the histogram of the data\n",
    "n, bins, patches = plt.hist(blight_violations_grouped, 1000, facecolor='green', alpha=0.75)\n",
    "\n",
    "plt.xlabel('Number of violations at 6 geohash length Location (approx 1km^2)')\n",
    "plt.ylabel('Frequency')\n",
    "# plt.yscale('log')\n",
    "plt.title(r'Examining the frequency of violations at a single location')\n",
    "plt.axis([0, 3000, 0, 100])\n",
    "plt.grid(True)\n",
    "\n",
    "plt.show()"
   ]
  },
  {
   "cell_type": "markdown",
   "metadata": {},
   "source": [
    "##### 5. Proximity to 311 calls \n",
    "Same again with 311 calls. Hypothesis is that the more calls in the area, the more likely buildings in the area are to become blighted."
   ]
  },
  {
   "cell_type": "code",
   "execution_count": 29,
   "metadata": {
    "collapsed": false
   },
   "outputs": [],
   "source": [
    "import pandas as pd\n",
    "\n",
    "# Read in 311 calls\n",
    "calls_311 = pd.read_csv('data/detroit-311.csv', delimiter=',', na_values=['', 'N/A'])"
   ]
  },
  {
   "cell_type": "code",
   "execution_count": 52,
   "metadata": {
    "collapsed": false
   },
   "outputs": [],
   "source": [
    "# Parse locations & Add another column to our demolition_permits to join\n",
    "from blight_functions import location\n",
    "calls_311['geohashed'] = calls_311.apply(lambda row: location.get_geohash(row['location'], precision=6), axis=1)"
   ]
  },
  {
   "cell_type": "code",
   "execution_count": 53,
   "metadata": {
    "collapsed": false
   },
   "outputs": [
    {
     "data": {
      "text/plain": [
       "geohashed\n",
       "dp6qq8     1\n",
       "dpsb7q     2\n",
       "dpsb7s     8\n",
       "dpsb7t    32\n",
       "dpsb7v     1\n",
       "dtype: int64"
      ]
     },
     "execution_count": 53,
     "metadata": {},
     "output_type": "execute_result"
    }
   ],
   "source": [
    "# Group by geohash\n",
    "calls_311_grouped = calls_311.groupby(['geohashed']).size()\n",
    "calls_311_grouped[:5]"
   ]
  },
  {
   "cell_type": "code",
   "execution_count": 54,
   "metadata": {
    "collapsed": true
   },
   "outputs": [],
   "source": [
    "# Save the results to a csv file - [geohash (shortend, number of crimes]\n",
    "calls_311_grouped.to_csv('data/features/311_calls_at_truncated_geohash.csv')"
   ]
  },
  {
   "cell_type": "code",
   "execution_count": 60,
   "metadata": {
    "collapsed": false
   },
   "outputs": [
    {
     "data": {
      "image/png": "[encoded data removed]",
      "text/plain": [
       "<matplotlib.figure.Figure at 0x13b6cd30>"
      ]
     },
     "metadata": {},
     "output_type": "display_data"
    }
   ],
   "source": [
    "# Examine the distribution\n",
    "%matplotlib inline\n",
    "import numpy as np\n",
    "import matplotlib.mlab as mlab\n",
    "import matplotlib.pyplot as plt\n",
    "\n",
    "# the histogram of the data\n",
    "n, bins, patches = plt.hist(calls_311_grouped, 200, facecolor='green', alpha=0.75)\n",
    "\n",
    "plt.xlabel('Number of 311 calls at 6 geohash length Location (approx 1km^2)')\n",
    "plt.ylabel('Frequency')\n",
    "# plt.yscale('log')\n",
    "plt.title(r'Examining the frequency of 311 calls at a single location')\n",
    "plt.axis([0, 200, 0, 60])\n",
    "plt.grid(True)\n",
    "\n",
    "plt.show()"
   ]
  },
  {
   "cell_type": "markdown",
   "metadata": {},
   "source": [
    "##### 6. Any relevant building features ? \n",
    "\n",
    "If we had a another data source (e.g. census data) which could tell us more about the building and it's inhabitants we could use that to engineer some additional features.\n",
    "\n",
    "For example:\n",
    "- number of residents in building\n",
    "- number \n",
    "- last move in date / last sale date\n",
    "- number of stories\n",
    "- average rental / market value of the propery"
   ]
  },
  {
   "cell_type": "code",
   "execution_count": null,
   "metadata": {
    "collapsed": true
   },
   "outputs": [],
   "source": []
  }
 ],
 "metadata": {
  "kernelspec": {
   "display_name": "Python 2",
   "language": "python",
   "name": "python2"
  },
  "language_info": {
   "codemirror_mode": {
    "name": "ipython",
    "version": 2
   },
   "file_extension": ".py",
   "mimetype": "text/x-python",
   "name": "python",
   "nbconvert_exporter": "python",
   "pygments_lexer": "ipython2",
   "version": "2.7.11"
  }
 },
 "nbformat": 4,
 "nbformat_minor": 0
}
